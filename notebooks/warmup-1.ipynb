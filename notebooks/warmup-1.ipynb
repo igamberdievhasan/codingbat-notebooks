{
 "cells": [
  {
   "cell_type": "markdown",
   "metadata": {},
   "source": [
    "## sleep_in\n",
    "\n",
    "\n",
    "#### The parameter weekday is True if it is a weekday, and the parameter vacation is True if we are on vacation. We sleep in if it is not a weekday or we're on vacation. Return True if we sleep in.\n",
    "\n",
    "\n",
    "```\n",
    "sleep_in(False, False) → True\n",
    "sleep_in(True, False) → False\n",
    "sleep_in(False, True) → True\n",
    "```"
   ]
  },
  {
   "cell_type": "code",
   "execution_count": 5,
   "metadata": {},
   "outputs": [
    {
     "name": "stdout",
     "output_type": "stream",
     "text": [
      "Overwriting sleep_in.log\n"
     ]
    }
   ],
   "source": [
    "%%writefile sleep_in.log\n",
    "def sleep_in(weekday, vacation):\n",
    "    if not weekday or vacation:\n",
    "        return(true)\n",
    "    else:\n",
    "        return(false)\n",
    "#run test_codebat.sleep_in.py get output print results\n",
    "!python -m test_codebat.sleep_in.py"
   ]
  },
  {
   "cell_type": "markdown",
   "metadata": {},
   "source": [
    " ## monkey_trouble\n",
    "\n",
    "\n",
    "#### We have two monkeys, a and b, and the parameters a_smile and b_smile indicate if each is smiling. We are in trouble if they are both smiling or if neither of them is smiling. Return True if we are in trouble.\n",
    "\n",
    "\n",
    "```\n",
    "monkey_trouble(True, True) → True\n",
    "monkey_trouble(False, False) → True\n",
    "monkey_trouble(True, False) → False\n",
    "```"
   ]
  },
  {
   "cell_type": "code",
   "execution_count": null,
   "metadata": {},
   "outputs": [],
   "source": [
    "%%writefile monkey_trouble.log\n",
    "def sleep_in(weekday, vacation):\n",
    "    return(true)"
   ]
  },
  {
   "cell_type": "markdown",
   "metadata": {},
   "source": [
    " ## sum_double\n",
    "\n",
    "\n",
    "#### Given two int values, return their sum. Unless the two values are the same, then return double their sum.\n",
    "\n",
    "\n",
    "```\n",
    "sum_double(1, 2) → 3\n",
    "sum_double(3, 2) → 5\n",
    "sum_double(2, 2) → 8\n",
    "```"
   ]
  },
  {
   "cell_type": "code",
   "execution_count": null,
   "metadata": {},
   "outputs": [],
   "source": [
    "%%writefile sum_double.log\n",
    "def sum_double(a, b):\n",
    "    return(true)"
   ]
  },
  {
   "cell_type": "markdown",
   "metadata": {},
   "source": [
    " ## diff21\n",
    "\n",
    "\n",
    "\n",
    "#### Given an int n, return the absolute difference between n and 21, except return double the absolute difference if n is over 21.\n",
    "\n",
    "\n",
    "```\n",
    "diff21(19) → 2\n",
    "diff21(10) → 11\n",
    "diff21(21) → 0\n",
    "```"
   ]
  },
  {
   "cell_type": "code",
   "execution_count": null,
   "metadata": {},
   "outputs": [],
   "source": [
    "%%writefile diff21.log\n",
    "def diff21(n):\n",
    "    return(true)"
   ]
  },
  {
   "cell_type": "markdown",
   "metadata": {},
   "source": [
    " ## parrot_trouble\n",
    "\n",
    "\n",
    "\n",
    "#### We have a loud talking parrot. The \"hour\" parameter is the current hour time in the range 0..23. We are in trouble if the parrot is talking and the hour is before 7 or after 20. Return True if we are in trouble.\n",
    "\n",
    "\n",
    "```\n",
    "parrot_trouble(True, 6) → True\n",
    "parrot_trouble(True, 7) → False\n",
    "parrot_trouble(False, 6) → False\n",
    "```"
   ]
  },
  {
   "cell_type": "code",
   "execution_count": null,
   "metadata": {},
   "outputs": [],
   "source": [
    "%%writefile parrot_trouble.log\n",
    "def parrot_trouble(talking, hour):\n",
    "    return(true)"
   ]
  },
  {
   "cell_type": "markdown",
   "metadata": {},
   "source": [
    " ## makes10\n",
    "\n",
    "\n",
    "\n",
    "#### Given 2 ints, a and b, return True if one if them is 10 or if their sum is 10.\n",
    "\n",
    "```\n",
    "makes10(9, 10) → True\n",
    "makes10(9, 9) → False\n",
    "makes10(1, 9) → True\n",
    "```"
   ]
  },
  {
   "cell_type": "code",
   "execution_count": null,
   "metadata": {},
   "outputs": [],
   "source": [
    "%%writefile makes10.log\n",
    "def makes10(a, b):\n",
    "    return(true)"
   ]
  },
  {
   "cell_type": "markdown",
   "metadata": {},
   "source": [
    " ## near_hundred\n",
    "\n",
    "\n",
    "\n",
    "#### Given an int n, return True if it is within 10 of 100 or 200. Note: abs(num) computes the absolute value of a number.\n",
    "\n",
    "```\n",
    "makes10(9, 10) → True\n",
    "makes10(9, 9) → False\n",
    "makes10(1, 9) → True\n",
    "```"
   ]
  },
  {
   "cell_type": "code",
   "execution_count": null,
   "metadata": {},
   "outputs": [],
   "source": [
    "%%writefile near_hundred.log\n",
    "def near_hundred(n):\n",
    "    return(true)"
   ]
  },
  {
   "cell_type": "markdown",
   "metadata": {},
   "source": [
    " ## pos_neg\n",
    "\n",
    "\n",
    "\n",
    "#### Given 2 int values, return True if one is negative and one is positive. Except if the parameter \"negative\" is True, then return True only if both are negative.\n",
    "\n",
    "```\n",
    "pos_neg(1, -1, False) → True\n",
    "pos_neg(-1, 1, False) → True\n",
    "pos_neg(-4, -5, True) → True\n",
    "```"
   ]
  },
  {
   "cell_type": "code",
   "execution_count": null,
   "metadata": {},
   "outputs": [],
   "source": [
    "%%writefile pos_neg.log\n",
    "def pos_neg(a, b, negative):\n",
    "    return(true)"
   ]
  },
  {
   "cell_type": "markdown",
   "metadata": {},
   "source": [
    " ## not_string\n",
    "\n",
    "\n",
    "\n",
    "\n",
    "#### Given a string, return a new string where \"not \" has been added to the front. However, if the string already begins with \"not\", return the string unchanged.\n",
    "\n",
    "```\n",
    "not_string('candy') → 'not candy'\n",
    "not_string('x') → 'not x'\n",
    "not_string('not bad') → 'not bad'\n",
    "```"
   ]
  },
  {
   "cell_type": "code",
   "execution_count": null,
   "metadata": {},
   "outputs": [],
   "source": [
    "%%writefile not_string.log\n",
    "def not_string(str):\n",
    "    return(true)"
   ]
  },
  {
   "cell_type": "markdown",
   "metadata": {},
   "source": [
    " ## missing_char\n",
    "\n",
    "\n",
    "\n",
    "\n",
    "#### Given a non-empty string and an int n, return a new string where the char at index n has been removed. The value of n will be a valid index of a char in the original string (i.e. n will be in the range 0..len(str)-1 inclusive).\n",
    "\n",
    "```\n",
    "missing_char('kitten', 1) → 'ktten'\n",
    "missing_char('kitten', 0) → 'itten'\n",
    "missing_char('kitten', 4) → 'kittn'\n",
    "```"
   ]
  },
  {
   "cell_type": "code",
   "execution_count": null,
   "metadata": {},
   "outputs": [],
   "source": [
    "%%writefile missing_char.log\n",
    "def missing_char(str, n):\n",
    "    return(true)"
   ]
  },
  {
   "cell_type": "markdown",
   "metadata": {},
   "source": [
    " ## front_back\n",
    "\n",
    "\n",
    "\n",
    "\n",
    "#### Given a string, return a new string where the first and last chars have been exchanged.\n",
    "\n",
    "```\n",
    "front_back('code') → 'eodc'\n",
    "front_back('a') → 'a'\n",
    "front_back('ab') → 'ba'\n",
    "```"
   ]
  },
  {
   "cell_type": "code",
   "execution_count": null,
   "metadata": {},
   "outputs": [],
   "source": [
    "%%writefile front_back.log\n",
    "def front_back(str):\n",
    "    return(true)"
   ]
  },
  {
   "cell_type": "markdown",
   "metadata": {},
   "source": [
    " ## front3\n",
    "\n",
    "\n",
    "\n",
    "\n",
    "#### Given a string, we'll say that the front is the first 3 chars of the string. If the string length is less than 3, the front is whatever is there. Return a new string which is 3 copies of the front.\n",
    "\n",
    "```\n",
    "front3('Java') → 'JavJavJav'\n",
    "front3('Chocolate') → 'ChoChoCho'\n",
    "front3('abc') → 'abcabcabc'\n",
    "```"
   ]
  },
  {
   "cell_type": "code",
   "execution_count": null,
   "metadata": {},
   "outputs": [],
   "source": [
    "%%writefile front3.log\n",
    "def front3(str):\n",
    "    return(true)"
   ]
  }
 ],
 "metadata": {
  "kernelspec": {
   "display_name": "Python 3",
   "language": "python",
   "name": "python3"
  },
  "language_info": {
   "codemirror_mode": {
    "name": "ipython",
    "version": 3
   },
   "file_extension": ".py",
   "mimetype": "text/x-python",
   "name": "python",
   "nbconvert_exporter": "python",
   "pygments_lexer": "ipython3",
   "version": "3.7.4"
  }
 },
 "nbformat": 4,
 "nbformat_minor": 2
}
