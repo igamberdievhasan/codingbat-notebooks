{
 "cells": [
  {
   "cell_type": "markdown",
   "metadata": {},
   "source": [
    "## count_evens\n",
    "\n",
    "\n",
    "\n",
    "#### Return the number of even ints in the given array. Note: the % \"mod\" operator computes the remainder, e.g. 5 % 2 is 1.\n",
    "\n",
    "\n",
    "```\n",
    "count_evens([2, 1, 2, 3, 4]) → 3\n",
    "count_evens([2, 2, 0]) → 3\n",
    "count_evens([1, 3, 5]) → 0\n",
    "```"
   ]
  },
  {
   "cell_type": "code",
   "execution_count": null,
   "metadata": {},
   "outputs": [],
   "source": [
    "%%writefile count_evens.log\n",
    "def count_evens(nums):\n",
    "    return(true)"
   ]
  },
  {
   "cell_type": "markdown",
   "metadata": {},
   "source": [
    "## big_diff\n",
    "\n",
    "\n",
    "\n",
    "#### Given an array length 1 or more of ints, return the difference between the largest and smallest values in the array. Note: the built-in min(v1, v2) and max(v1, v2) functions return the smaller or larger of two values.\n",
    "\n",
    "\n",
    "```\n",
    "big_diff([10, 3, 5, 6]) → 7\n",
    "big_diff([7, 2, 10, 9]) → 8\n",
    "big_diff([2, 10, 7, 2]) → 8\n",
    "```"
   ]
  },
  {
   "cell_type": "code",
   "execution_count": null,
   "metadata": {},
   "outputs": [],
   "source": [
    "%%writefile big_diff.log\n",
    "def big_diff(nums):\n",
    "    return(true)"
   ]
  },
  {
   "cell_type": "markdown",
   "metadata": {},
   "source": [
    "## centered_average\n",
    "\n",
    "\n",
    "\n",
    "#### Return the \"centered\" average of an array of ints, which we'll say is the mean average of the values, except ignoring the largest and smallest values in the array. If there are multiple copies of the smallest value, ignore just one copy, and likewise for the largest value. Use int division to produce the final average. You may assume that the array is length 3 or more.\n",
    "\n",
    "\n",
    "\n",
    "\n",
    "\n",
    "```\n",
    "centered_average([1, 2, 3, 4, 100]) → 3\n",
    "centered_average([1, 1, 5, 5, 10, 8, 7]) → 5\n",
    "centered_average([-10, -4, -2, -4, -2, 0]) → -3\n",
    "```"
   ]
  },
  {
   "cell_type": "code",
   "execution_count": null,
   "metadata": {},
   "outputs": [],
   "source": [
    "%%writefile centered_average.log\n",
    "def centered_average(nums):\n",
    "    return(true)"
   ]
  },
  {
   "cell_type": "markdown",
   "metadata": {},
   "source": [
    "## sum13\n",
    "\n",
    "\n",
    "\n",
    "#### Return the sum of the numbers in the array, returning 0 for an empty array. Except the number 13 is very unlucky, so it does not count and numbers that come immediately after a 13 also do not count.\n",
    "\n",
    "\n",
    "```\n",
    "sum13([1, 2, 2, 1]) → 6\n",
    "sum13([1, 1]) → 2\n",
    "sum13([1, 2, 2, 1, 13]) → 6\n",
    "```"
   ]
  },
  {
   "cell_type": "code",
   "execution_count": 1,
   "metadata": {},
   "outputs": [
    {
     "name": "stdout",
     "output_type": "stream",
     "text": [
      "Writing caught_speeding.log\n"
     ]
    }
   ],
   "source": [
    "%%writefile sum13.log\n",
    "def sum13(nums):\n",
    "    return(true)"
   ]
  },
  {
   "cell_type": "markdown",
   "metadata": {},
   "source": [
    "## sum67\n",
    "\n",
    "\n",
    "\n",
    "#### Return the sum of the numbers in the array, except ignore sections of numbers starting with a 6 and extending to the next 7 (every 6 will be followed by at least one 7). Return 0 for no numbers.\n",
    "\n",
    "\n",
    "```\n",
    "sum67([1, 2, 2]) → 5\n",
    "sum67([1, 2, 2, 6, 99, 99, 7]) → 5\n",
    "sum67([1, 1, 6, 7, 2]) → 4\n",
    "\n",
    "```"
   ]
  },
  {
   "cell_type": "code",
   "execution_count": null,
   "metadata": {},
   "outputs": [],
   "source": [
    "%%writefile sum67.log\n",
    "def sum67(nums):\n",
    "    return(true)"
   ]
  },
  {
   "cell_type": "markdown",
   "metadata": {},
   "source": [
    "## has22\n",
    "\n",
    "\n",
    "\n",
    "#### Given an array of ints, return True if the array contains a 2 next to a 2 somewhere.\n",
    "\n",
    "\n",
    "\n",
    "```\n",
    "has22([1, 2, 2]) → True\n",
    "has22([1, 2, 1, 2]) → False\n",
    "has22([2, 1, 2]) → False\n",
    "```"
   ]
  },
  {
   "cell_type": "code",
   "execution_count": 1,
   "metadata": {},
   "outputs": [
    {
     "name": "stdout",
     "output_type": "stream",
     "text": [
      "Writing has22.log\n"
     ]
    }
   ],
   "source": [
    "%%writefile has22.log\n",
    "def has22(nums):\n",
    "    return(true)"
   ]
  },
  {
   "cell_type": "code",
   "execution_count": null,
   "metadata": {},
   "outputs": [],
   "source": []
  }
 ],
 "metadata": {
  "kernelspec": {
   "display_name": "Python 3",
   "language": "python",
   "name": "python3"
  },
  "language_info": {
   "codemirror_mode": {
    "name": "ipython",
    "version": 3
   },
   "file_extension": ".py",
   "mimetype": "text/x-python",
   "name": "python",
   "nbconvert_exporter": "python",
   "pygments_lexer": "ipython3",
   "version": "3.7.4"
  }
 },
 "nbformat": 4,
 "nbformat_minor": 2
}
